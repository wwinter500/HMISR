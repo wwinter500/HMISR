{
 "cells": [
  {
   "cell_type": "code",
   "execution_count": 24,
   "metadata": {},
   "outputs": [],
   "source": [
    "import torch\n",
    "import torch.utils.data as data\n",
    "import cv2\n",
    "import random\n",
    "\n",
    "#load HMI-GL bmp\n",
    "imgPI = r\"C:\\Users\\donwu\\Documents\\github\\RDN_HMI\\RDN-Pytorch\\images\\train\\0.bmp\"\n",
    "imgPT = r\"C:\\Users\\donwu\\Documents\\github\\RDN_HMI\\RDN-Pytorch\\images\\train_gt\\0.bmp\"\n",
    "imgI = cv2.imread(imgPI)\n",
    "imgT = cv2.imread(imgPT)\n",
    "\n",
    "def GLBMP_np2tensor(imgIn, imgTar):\n",
    "    ts = (2, 0, 1)\n",
    "    imgIn = torch.Tensor(imgIn.transpose(ts).astype(float)).mul_(1.0)\n",
    "    imgTar = torch.Tensor(imgTar.transpose(ts).astype(float)).mul_(1.0)    \n",
    "    print(imgIn.shape)\n",
    "    \n",
    "    return imgIn, imgTar\n",
    "    \n",
    "#GLBMP_np2tensor(imgI, imgT)\n"
   ]
  },
  {
   "cell_type": "code",
   "execution_count": 25,
   "metadata": {},
   "outputs": [],
   "source": [
    "#augment\n",
    "def augment(imgIn, imgTar):\n",
    "    if random.random() < 0.3:\n",
    "        imgIn = imgIn[:, ::-1, :]\n",
    "        imgTar = imgTar[:, ::-1, :]\n",
    "    if random.random() < 0.3:\n",
    "        imgIn = imgIn[::-1, :, :]\n",
    "        imgTar = imgTar[::-1, :, :]\n",
    "    return imgIn, imgTar\n",
    "\n",
    "#augment(imgI, imgT)"
   ]
  },
  {
   "cell_type": "code",
   "execution_count": null,
   "metadata": {},
   "outputs": [],
   "source": []
  }
 ],
 "metadata": {
  "kernelspec": {
   "display_name": "Python 3",
   "language": "python",
   "name": "python3"
  },
  "language_info": {
   "codemirror_mode": {
    "name": "ipython",
    "version": 3
   },
   "file_extension": ".py",
   "mimetype": "text/x-python",
   "name": "python",
   "nbconvert_exporter": "python",
   "pygments_lexer": "ipython3",
   "version": "3.6.4"
  }
 },
 "nbformat": 4,
 "nbformat_minor": 2
}
